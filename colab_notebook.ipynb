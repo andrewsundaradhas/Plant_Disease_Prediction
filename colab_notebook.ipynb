{
 "cells": [
  {
   "cell_type": "markdown",
   "metadata": {
    "id": "view-in-github",
    "colab_type": "text"
   },
   "source": [
    "<a href=\"https://colab.research.google.com/github/yourusername/balanze/blob/main/colab_notebook.ipynb\" target=\"_parent\"><img src=\"https://colab.research.google.com/assets/colab-badge.svg\" alt=\"Open In Colab\"/></a>"
   ]
  },
  {
   "cell_type": "code",
   "execution_count": null,
   "metadata": {
    "id": "remote-training-setup",
    "colab": {},
    "cellView": "form"
   },
   "outputs": [],
   "source": [
    "#@title 🔌 Remote Training Setup\n",
    "!pip install -q paramiko tqdm\n",
    "\n",
    "import paramiko\n",
    "from tqdm import tqdm\n",
    "import sys\n",
    "import os\n",
    "\n",
    "def connect_to_remote():\n",
    "    print(\"🔍 Setting up remote connection...\")\n",
    "    \n",
    "    # Get connection details\n",
    "    print(\"ℹ️ Enter the connection details from your local script\")\n",
    "    HOST = input(\"🌐 Host: \")\n",
    "    PORT = int(input(\"🔌 Port: \"))\n",
    "    USERNAME = input(\"👤 Username: \")\n",
    "    PASSWORD = getpass(\"🔑 Password: \")\n",
    "    \n",
    "    # Connect to remote\n",
    "    print(\"\n🔗 Connecting to your local machine...\")\n",
    "    ssh = paramiko.SSHClient()\n",
    "    ssh.set_missing_host_key_policy(paramiko.AutoAddPolicy())\n",
    "    \n",
    "    try:\n",
    "        ssh.connect(HOST, port=PORT, username=USERNAME, password=PASSWORD, timeout=10)\n",
    "        print(\"✅ Successfully connected to your local machine!\")\n",
    "        return ssh\n",
    "    except Exception as e:\n",
    "        print(f\"❌ Connection failed: {str(e)}\")\n",
    "        return None\n",
    "\n",
    "def start_training(ssh):\n",
    "    print(\"\n🚀 Starting remote training...\")\n",
    "    print(\"📊 Training progress will be shown below:\")\n",
    "    print(\"-" * 50)\n",
    "    \n",
    "    # Get the project directory from the remote machine\n",
    "    stdin, stdout, stderr = ssh.exec_command(\"pwd\")\n",
    "    remote_dir = stdout.read().decode().strip()\n",
    "    \n",
    "    # Start training\n",
    "    cmd = f\"cd {remote_dir} && python resume_training.py\"\n",
    "    stdin, stdout, stderr = ssh.exec_command(\n",
    "        cmd,\n",
    "        get_pty=True,\n",
    "        environment={\"PYTHONUNBUFFERED\": \"1\"}\n",
    "    )\n",
    "    \n",
    "    # Stream output with progress\n",
    "    for line in iter(lambda: stdout.readline(2048), \"\"):\n",
    "        print(line, end=\"\")\n",
    "\n",
    "# Main execution\n",
    "if __name__ == \"__main__\":\n",
    "    from getpass import getpass\n",
    "    \n",
    "    print(\"=" * 50)\n",
    "    print(\"🌐 Remote Training with Google Colab GPU\")\n",
    "    print(\"=" * 50)\n",
    "    print(\"This notebook will connect to your local machine\")\n",
    "    print(\"and run the training using Colab's GPU.\")\n",
    "    print(\"\n\u2139  Make sure you have:\")\n",
    "    print(\"1. Run colab_setup.py on your local machine\")\n",
    "    print(\"2. The training script (resume_training.py) is ready\")\n",
    "    print(\"3. Your local machine is connected to the internet\")\n",
    "    print(\"=" * 50 + "\n\")\n",
    "    \n",
    "    ssh = connect_to_remote()\n",
    "    if ssh:\n",
    "        try:\n",
    "            start_training(ssh)\n",
    "        except KeyboardInterrupt:\n",
    "            print(\"\n🛑 Training stopped by user\")\n",
    "        except Exception as e:\n",
    "            print(f\"\n❌ An error occurred: {str(e)}\")\n",
    "        finally:\n",
    "            ssh.close()\n",
    "            print(\"\n🔌 Connection closed.\")\n",
    "    print(\"\n✨ All done! Check your local machine for the trained model.\")"
   ]
  },
  {
   "cell_type": "code",
   "execution_count": null,
   "metadata": {
    "id": "monitor-gpu",
    "colab": {},
    "cellView": "form"
   },
   "outputs": [],
   "source": [
    "#@title 🖥️ Monitor GPU Usage\n",
    "!nvidia-smi"
   ]
  }
 ],
 "metadata": {
  "colab": {
   "provenance": [],
   "include_colab_link": true
  },
  "kernelspec": {
   "display_name": "Python 3",
   "name": "python3"
  },
  "language_info": {
   "name": "python"
  }
 },
 "nbformat": 4,
 "nbformat_minor": 0
}
